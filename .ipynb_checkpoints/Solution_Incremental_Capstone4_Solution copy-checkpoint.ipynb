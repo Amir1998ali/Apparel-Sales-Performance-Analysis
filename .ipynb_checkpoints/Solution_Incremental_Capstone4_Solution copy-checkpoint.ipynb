{
 "cells": [
  {
   "cell_type": "markdown",
   "id": "79ec3f54-d672-448c-b785-6ab771f224ea",
   "metadata": {
    "tags": []
   },
   "source": [
    "# Incremental Capstone 4"
   ]
  },
  {
   "cell_type": "markdown",
   "id": "575f5b39-db0b-4452-84ea-ee16fb1a1739",
   "metadata": {},
   "source": [
    "## Import Data: NSMES1988updated.csv"
   ]
  },
  {
   "cell_type": "code",
   "execution_count": 2,
   "id": "d04d6b61",
   "metadata": {
    "execution": {
     "iopub.execute_input": "2024-10-24T03:54:27.078590Z",
     "iopub.status.busy": "2024-10-24T03:54:27.078129Z",
     "iopub.status.idle": "2024-10-24T03:54:28.988009Z",
     "shell.execute_reply": "2024-10-24T03:54:28.987599Z",
     "shell.execute_reply.started": "2024-10-24T03:54:27.078538Z"
    }
   },
   "outputs": [],
   "source": [
    "import pandas as pd \n",
    "import numpy as np\n",
    "import matplotlib.pyplot as plt\n",
    "import seaborn as sns\n",
    "\n",
    "import warnings\n",
    "warnings.filterwarnings('ignore')"
   ]
  },
  {
   "cell_type": "code",
   "execution_count": 3,
   "id": "21c1d13f",
   "metadata": {
    "execution": {
     "iopub.execute_input": "2024-10-24T03:54:28.989473Z",
     "iopub.status.busy": "2024-10-24T03:54:28.989253Z",
     "iopub.status.idle": "2024-10-24T03:54:29.014666Z",
     "shell.execute_reply": "2024-10-24T03:54:29.014060Z",
     "shell.execute_reply.started": "2024-10-24T03:54:28.989453Z"
    }
   },
   "outputs": [
    {
     "data": {
      "text/html": [
       "<div>\n",
       "<style scoped>\n",
       "    .dataframe tbody tr th:only-of-type {\n",
       "        vertical-align: middle;\n",
       "    }\n",
       "\n",
       "    .dataframe tbody tr th {\n",
       "        vertical-align: top;\n",
       "    }\n",
       "\n",
       "    .dataframe thead th {\n",
       "        text-align: right;\n",
       "    }\n",
       "</style>\n",
       "<table border=\"1\" class=\"dataframe\">\n",
       "  <thead>\n",
       "    <tr style=\"text-align: right;\">\n",
       "      <th></th>\n",
       "      <th>Unnamed: 0</th>\n",
       "      <th>visits</th>\n",
       "      <th>nvisits</th>\n",
       "      <th>ovisits</th>\n",
       "      <th>novisits</th>\n",
       "      <th>emergency</th>\n",
       "      <th>hospital</th>\n",
       "      <th>health</th>\n",
       "      <th>chronic</th>\n",
       "      <th>adl</th>\n",
       "      <th>region</th>\n",
       "      <th>age</th>\n",
       "      <th>gender</th>\n",
       "      <th>married</th>\n",
       "      <th>school</th>\n",
       "      <th>income</th>\n",
       "      <th>employed</th>\n",
       "      <th>insurance</th>\n",
       "      <th>medicaid</th>\n",
       "    </tr>\n",
       "  </thead>\n",
       "  <tbody>\n",
       "    <tr>\n",
       "      <th>0</th>\n",
       "      <td>1</td>\n",
       "      <td>5</td>\n",
       "      <td>0</td>\n",
       "      <td>0</td>\n",
       "      <td>0</td>\n",
       "      <td>0</td>\n",
       "      <td>1</td>\n",
       "      <td>average</td>\n",
       "      <td>2</td>\n",
       "      <td>normal</td>\n",
       "      <td>other</td>\n",
       "      <td>69.0</td>\n",
       "      <td>male</td>\n",
       "      <td>yes</td>\n",
       "      <td>6</td>\n",
       "      <td>28810.0</td>\n",
       "      <td>yes</td>\n",
       "      <td>yes</td>\n",
       "      <td>no</td>\n",
       "    </tr>\n",
       "    <tr>\n",
       "      <th>1</th>\n",
       "      <td>2</td>\n",
       "      <td>1</td>\n",
       "      <td>0</td>\n",
       "      <td>2</td>\n",
       "      <td>0</td>\n",
       "      <td>2</td>\n",
       "      <td>0</td>\n",
       "      <td>average</td>\n",
       "      <td>2</td>\n",
       "      <td>normal</td>\n",
       "      <td>other</td>\n",
       "      <td>74.0</td>\n",
       "      <td>female</td>\n",
       "      <td>yes</td>\n",
       "      <td>10</td>\n",
       "      <td>27478.0</td>\n",
       "      <td>no</td>\n",
       "      <td>yes</td>\n",
       "      <td>no</td>\n",
       "    </tr>\n",
       "    <tr>\n",
       "      <th>2</th>\n",
       "      <td>3</td>\n",
       "      <td>13</td>\n",
       "      <td>0</td>\n",
       "      <td>0</td>\n",
       "      <td>0</td>\n",
       "      <td>3</td>\n",
       "      <td>3</td>\n",
       "      <td>poor</td>\n",
       "      <td>4</td>\n",
       "      <td>limited</td>\n",
       "      <td>other</td>\n",
       "      <td>66.0</td>\n",
       "      <td>female</td>\n",
       "      <td>no</td>\n",
       "      <td>10</td>\n",
       "      <td>6532.0</td>\n",
       "      <td>no</td>\n",
       "      <td>no</td>\n",
       "      <td>yes</td>\n",
       "    </tr>\n",
       "    <tr>\n",
       "      <th>3</th>\n",
       "      <td>4</td>\n",
       "      <td>16</td>\n",
       "      <td>0</td>\n",
       "      <td>5</td>\n",
       "      <td>0</td>\n",
       "      <td>1</td>\n",
       "      <td>1</td>\n",
       "      <td>poor</td>\n",
       "      <td>2</td>\n",
       "      <td>limited</td>\n",
       "      <td>other</td>\n",
       "      <td>76.0</td>\n",
       "      <td>male</td>\n",
       "      <td>yes</td>\n",
       "      <td>3</td>\n",
       "      <td>6588.0</td>\n",
       "      <td>no</td>\n",
       "      <td>yes</td>\n",
       "      <td>no</td>\n",
       "    </tr>\n",
       "    <tr>\n",
       "      <th>4</th>\n",
       "      <td>5</td>\n",
       "      <td>3</td>\n",
       "      <td>0</td>\n",
       "      <td>0</td>\n",
       "      <td>0</td>\n",
       "      <td>0</td>\n",
       "      <td>0</td>\n",
       "      <td>average</td>\n",
       "      <td>2</td>\n",
       "      <td>limited</td>\n",
       "      <td>other</td>\n",
       "      <td>79.0</td>\n",
       "      <td>female</td>\n",
       "      <td>yes</td>\n",
       "      <td>6</td>\n",
       "      <td>6588.0</td>\n",
       "      <td>no</td>\n",
       "      <td>yes</td>\n",
       "      <td>no</td>\n",
       "    </tr>\n",
       "  </tbody>\n",
       "</table>\n",
       "</div>"
      ],
      "text/plain": [
       "   Unnamed: 0  visits  nvisits  ovisits  novisits  emergency  hospital  \\\n",
       "0           1       5        0        0         0          0         1   \n",
       "1           2       1        0        2         0          2         0   \n",
       "2           3      13        0        0         0          3         3   \n",
       "3           4      16        0        5         0          1         1   \n",
       "4           5       3        0        0         0          0         0   \n",
       "\n",
       "    health  chronic      adl region   age  gender married  school   income  \\\n",
       "0  average        2   normal  other  69.0    male     yes       6  28810.0   \n",
       "1  average        2   normal  other  74.0  female     yes      10  27478.0   \n",
       "2     poor        4  limited  other  66.0  female      no      10   6532.0   \n",
       "3     poor        2  limited  other  76.0    male     yes       3   6588.0   \n",
       "4  average        2  limited  other  79.0  female     yes       6   6588.0   \n",
       "\n",
       "  employed insurance medicaid  \n",
       "0      yes       yes       no  \n",
       "1       no       yes       no  \n",
       "2       no        no      yes  \n",
       "3       no       yes       no  \n",
       "4       no       yes       no  "
      ]
     },
     "execution_count": 3,
     "metadata": {},
     "output_type": "execute_result"
    }
   ],
   "source": [
    "df = pd.read_csv('NSMES1988_updated.csv')\n",
    "df.head()"
   ]
  },
  {
   "cell_type": "code",
   "execution_count": 4,
   "id": "bf9817aa",
   "metadata": {
    "execution": {
     "iopub.execute_input": "2024-10-24T03:54:29.015415Z",
     "iopub.status.busy": "2024-10-24T03:54:29.015297Z",
     "iopub.status.idle": "2024-10-24T03:54:29.018245Z",
     "shell.execute_reply": "2024-10-24T03:54:29.017777Z",
     "shell.execute_reply.started": "2024-10-24T03:54:29.015403Z"
    }
   },
   "outputs": [
    {
     "data": {
      "text/plain": [
       "(4406, 19)"
      ]
     },
     "execution_count": 4,
     "metadata": {},
     "output_type": "execute_result"
    }
   ],
   "source": [
    "df.shape"
   ]
  },
  {
   "cell_type": "code",
   "execution_count": 5,
   "id": "fddd426f",
   "metadata": {
    "execution": {
     "iopub.execute_input": "2024-10-24T03:54:29.019535Z",
     "iopub.status.busy": "2024-10-24T03:54:29.019257Z",
     "iopub.status.idle": "2024-10-24T03:54:29.060311Z",
     "shell.execute_reply": "2024-10-24T03:54:29.059498Z",
     "shell.execute_reply.started": "2024-10-24T03:54:29.019514Z"
    }
   },
   "outputs": [
    {
     "name": "stdout",
     "output_type": "stream",
     "text": [
      "<class 'pandas.core.frame.DataFrame'>\n",
      "RangeIndex: 4406 entries, 0 to 4405\n",
      "Data columns (total 19 columns):\n",
      " #   Column      Non-Null Count  Dtype  \n",
      "---  ------      --------------  -----  \n",
      " 0   Unnamed: 0  4406 non-null   int64  \n",
      " 1   visits      4406 non-null   int64  \n",
      " 2   nvisits     4406 non-null   int64  \n",
      " 3   ovisits     4406 non-null   int64  \n",
      " 4   novisits    4406 non-null   int64  \n",
      " 5   emergency   4406 non-null   int64  \n",
      " 6   hospital    4406 non-null   int64  \n",
      " 7   health      4406 non-null   object \n",
      " 8   chronic     4406 non-null   int64  \n",
      " 9   adl         4406 non-null   object \n",
      " 10  region      4406 non-null   object \n",
      " 11  age         4406 non-null   float64\n",
      " 12  gender      4406 non-null   object \n",
      " 13  married     4406 non-null   object \n",
      " 14  school      4406 non-null   int64  \n",
      " 15  income      4406 non-null   float64\n",
      " 16  employed    4406 non-null   object \n",
      " 17  insurance   4406 non-null   object \n",
      " 18  medicaid    4406 non-null   object \n",
      "dtypes: float64(2), int64(9), object(8)\n",
      "memory usage: 654.1+ KB\n"
     ]
    }
   ],
   "source": [
    "df.info()"
   ]
  },
  {
   "cell_type": "code",
   "execution_count": 6,
   "id": "224e4b07",
   "metadata": {
    "execution": {
     "iopub.execute_input": "2024-10-24T03:54:29.062580Z",
     "iopub.status.busy": "2024-10-24T03:54:29.062322Z",
     "iopub.status.idle": "2024-10-24T03:54:29.074019Z",
     "shell.execute_reply": "2024-10-24T03:54:29.073614Z",
     "shell.execute_reply.started": "2024-10-24T03:54:29.062565Z"
    }
   },
   "outputs": [
    {
     "data": {
      "text/plain": [
       "Unnamed: 0    0\n",
       "visits        0\n",
       "nvisits       0\n",
       "ovisits       0\n",
       "novisits      0\n",
       "emergency     0\n",
       "hospital      0\n",
       "health        0\n",
       "chronic       0\n",
       "adl           0\n",
       "region        0\n",
       "age           0\n",
       "gender        0\n",
       "married       0\n",
       "school        0\n",
       "income        0\n",
       "employed      0\n",
       "insurance     0\n",
       "medicaid      0\n",
       "dtype: int64"
      ]
     },
     "execution_count": 6,
     "metadata": {},
     "output_type": "execute_result"
    }
   ],
   "source": [
    "df.isnull().sum()"
   ]
  },
  {
   "cell_type": "code",
   "execution_count": 7,
   "id": "805476ee",
   "metadata": {
    "execution": {
     "iopub.execute_input": "2024-10-24T03:54:29.074834Z",
     "iopub.status.busy": "2024-10-24T03:54:29.074730Z",
     "iopub.status.idle": "2024-10-24T03:54:29.084096Z",
     "shell.execute_reply": "2024-10-24T03:54:29.083620Z",
     "shell.execute_reply.started": "2024-10-24T03:54:29.074824Z"
    }
   },
   "outputs": [
    {
     "data": {
      "text/plain": [
       "0"
      ]
     },
     "execution_count": 7,
     "metadata": {},
     "output_type": "execute_result"
    }
   ],
   "source": [
    "df.duplicated().sum()"
   ]
  },
  {
   "cell_type": "markdown",
   "id": "82a8c6ea-f30a-4c83-bccb-b17963e10253",
   "metadata": {},
   "source": [
    "## Detect and treat Outliers - income & hospital"
   ]
  },
  {
   "cell_type": "code",
   "execution_count": 8,
   "id": "3c56c4e5",
   "metadata": {
    "execution": {
     "iopub.execute_input": "2024-10-24T03:54:29.084808Z",
     "iopub.status.busy": "2024-10-24T03:54:29.084670Z",
     "iopub.status.idle": "2024-10-24T03:54:29.089432Z",
     "shell.execute_reply": "2024-10-24T03:54:29.089116Z",
     "shell.execute_reply.started": "2024-10-24T03:54:29.084795Z"
    }
   },
   "outputs": [
    {
     "data": {
      "text/plain": [
       "Index(['visits', 'nvisits', 'ovisits', 'novisits', 'emergency', 'hospital',\n",
       "       'health', 'chronic', 'adl', 'region', 'age', 'gender', 'married',\n",
       "       'school', 'income', 'employed', 'insurance', 'medicaid'],\n",
       "      dtype='object')"
      ]
     },
     "execution_count": 8,
     "metadata": {},
     "output_type": "execute_result"
    }
   ],
   "source": [
    "# drop Unnamed: 0 column\n",
    "df.drop(columns=['Unnamed: 0'], inplace=True)\n",
    "df.columns"
   ]
  },
  {
   "cell_type": "code",
   "execution_count": 9,
   "id": "226b6fd2",
   "metadata": {
    "execution": {
     "iopub.execute_input": "2024-10-24T03:54:29.090236Z",
     "iopub.status.busy": "2024-10-24T03:54:29.090045Z",
     "iopub.status.idle": "2024-10-24T03:54:29.095781Z",
     "shell.execute_reply": "2024-10-24T03:54:29.094979Z",
     "shell.execute_reply.started": "2024-10-24T03:54:29.090222Z"
    }
   },
   "outputs": [
    {
     "data": {
      "text/plain": [
       "['visits',\n",
       " 'nvisits',\n",
       " 'ovisits',\n",
       " 'novisits',\n",
       " 'emergency',\n",
       " 'hospital',\n",
       " 'chronic',\n",
       " 'age',\n",
       " 'school',\n",
       " 'income']"
      ]
     },
     "execution_count": 9,
     "metadata": {},
     "output_type": "execute_result"
    }
   ],
   "source": [
    "# create a list of numeric datatype column names\n",
    "num_cols = df.select_dtypes(include=np.number).columns.tolist() #include='number' can also be used\n",
    "num_cols"
   ]
  },
  {
   "cell_type": "code",
   "execution_count": 10,
   "id": "85fbc55d",
   "metadata": {
    "execution": {
     "iopub.execute_input": "2024-10-24T03:54:29.096754Z",
     "iopub.status.busy": "2024-10-24T03:54:29.096574Z",
     "iopub.status.idle": "2024-10-24T03:54:29.209284Z",
     "shell.execute_reply": "2024-10-24T03:54:29.208845Z",
     "shell.execute_reply.started": "2024-10-24T03:54:29.096742Z"
    }
   },
   "outputs": [
    {
     "data": {
      "image/png": "[encoded data removed]",
      "text/plain": [
       "<Figure size 640x480 with 1 Axes>"
      ]
     },
     "metadata": {},
     "output_type": "display_data"
    }
   ],
   "source": [
    "# boxplot of income\n",
    "sns.boxplot(data=df, x='income');"
   ]
  },
  {
   "cell_type": "code",
   "execution_count": 11,
   "id": "2730ecc6",
   "metadata": {
    "execution": {
     "iopub.execute_input": "2024-10-24T03:54:29.210071Z",
     "iopub.status.busy": "2024-10-24T03:54:29.209941Z",
     "iopub.status.idle": "2024-10-24T03:54:29.267299Z",
     "shell.execute_reply": "2024-10-24T03:54:29.266752Z",
     "shell.execute_reply.started": "2024-10-24T03:54:29.210062Z"
    }
   },
   "outputs": [
    {
     "data": {
      "image/png": "[encoded data removed]",
      "text/plain": [
       "<Figure size 640x480 with 1 Axes>"
      ]
     },
     "metadata": {},
     "output_type": "display_data"
    }
   ],
   "source": [
    "# boxplot of hospital\n",
    "sns.boxplot(data=df, x='hospital');"
   ]
  },
  {
   "cell_type": "code",
   "execution_count": 12,
   "id": "63494a05",
   "metadata": {
    "execution": {
     "iopub.execute_input": "2024-10-24T03:54:29.268167Z",
     "iopub.status.busy": "2024-10-24T03:54:29.268048Z",
     "iopub.status.idle": "2024-10-24T03:54:29.330855Z",
     "shell.execute_reply": "2024-10-24T03:54:29.330228Z",
     "shell.execute_reply.started": "2024-10-24T03:54:29.268157Z"
    }
   },
   "outputs": [
    {
     "data": {
      "image/png": "[encoded data removed]",
      "text/plain": [
       "<Figure size 640x480 with 1 Axes>"
      ]
     },
     "metadata": {},
     "output_type": "display_data"
    }
   ],
   "source": [
    "# treat outliers in income column using IQR method\n",
    "q1 = df['income'].quantile(0.25)\n",
    "q3 = df['income'].quantile(0.75)\n",
    "iqr = q3 - q1\n",
    "\n",
    "ub = q3 + 1.5*iqr\n",
    "lb = q1 - 1.5*iqr\n",
    "\n",
    "# using np.where to check and replace outliers with closest non-outlier value(upper bound or lower bound)\n",
    "df['income'] = np.where(df['income'] > ub, ub, df['income'])\n",
    "df['income'] = np.where(df['income'] < lb, lb, df['income'])\n",
    "\n",
    "# check for outliers in income column\n",
    "sns.boxplot(data=df, x='income');"
   ]
  },
  {
   "cell_type": "markdown",
   "id": "2d7e7a26",
   "metadata": {},
   "source": [
    "For hospital column we will not do any outlier treatment as the IQR is zero and q1 and q3 are also zero. This means that all non-zero values are treated as outliers. If we modify these'outlier' values to upper bound/lower bound we will end up setting all the values in this feature to zero. If all the values in a feature are the same then it is of no value analytically or for prediction purposes."
   ]
  },
  {
   "cell_type": "markdown",
   "id": "c7db8d80-f383-48f6-8df4-503a43117a0a",
   "metadata": {},
   "source": [
    "## Grouping Data\n",
    "\n",
    "### Group data by key variables like region, health status, age group and calculate aggregate statistics like average income and average visits."
   ]
  },
  {
   "cell_type": "code",
   "execution_count": 14,
   "id": "b2109288",
   "metadata": {
    "execution": {
     "iopub.execute_input": "2024-10-24T03:55:33.829321Z",
     "iopub.status.busy": "2024-10-24T03:55:33.828376Z",
     "iopub.status.idle": "2024-10-24T03:55:33.841994Z",
     "shell.execute_reply": "2024-10-24T03:55:33.841353Z",
     "shell.execute_reply.started": "2024-10-24T03:55:33.829290Z"
    },
    "tags": []
   },
   "outputs": [
    {
     "data": {
      "text/html": [
       "<div>\n",
       "<style scoped>\n",
       "    .dataframe tbody tr th:only-of-type {\n",
       "        vertical-align: middle;\n",
       "    }\n",
       "\n",
       "    .dataframe tbody tr th {\n",
       "        vertical-align: top;\n",
       "    }\n",
       "\n",
       "    .dataframe thead th {\n",
       "        text-align: right;\n",
       "    }\n",
       "</style>\n",
       "<table border=\"1\" class=\"dataframe\">\n",
       "  <thead>\n",
       "    <tr style=\"text-align: right;\">\n",
       "      <th></th>\n",
       "      <th>region</th>\n",
       "      <th>income</th>\n",
       "    </tr>\n",
       "  </thead>\n",
       "  <tbody>\n",
       "    <tr>\n",
       "      <th>0</th>\n",
       "      <td>midwest</td>\n",
       "      <td>22866.0</td>\n",
       "    </tr>\n",
       "    <tr>\n",
       "      <th>1</th>\n",
       "      <td>northeast</td>\n",
       "      <td>23793.0</td>\n",
       "    </tr>\n",
       "    <tr>\n",
       "      <th>2</th>\n",
       "      <td>other</td>\n",
       "      <td>20194.0</td>\n",
       "    </tr>\n",
       "    <tr>\n",
       "      <th>3</th>\n",
       "      <td>west</td>\n",
       "      <td>26998.0</td>\n",
       "    </tr>\n",
       "  </tbody>\n",
       "</table>\n",
       "</div>"
      ],
      "text/plain": [
       "      region   income\n",
       "0    midwest  22866.0\n",
       "1  northeast  23793.0\n",
       "2      other  20194.0\n",
       "3       west  26998.0"
      ]
     },
     "execution_count": 14,
     "metadata": {},
     "output_type": "execute_result"
    }
   ],
   "source": [
    "# groupby region & compare mean income\n",
    "df_region_income_avg = df.groupby('region')['income'].mean().reset_index()\n",
    "df_region_income_avg.round(0)"
   ]
  },
  {
   "cell_type": "code",
   "execution_count": 49,
   "id": "c8e7c073",
   "metadata": {},
   "outputs": [
    {
     "data": {
      "text/html": [
       "<div>\n",
       "<style scoped>\n",
       "    .dataframe tbody tr th:only-of-type {\n",
       "        vertical-align: middle;\n",
       "    }\n",
       "\n",
       "    .dataframe tbody tr th {\n",
       "        vertical-align: top;\n",
       "    }\n",
       "\n",
       "    .dataframe thead th {\n",
       "        text-align: right;\n",
       "    }\n",
       "</style>\n",
       "<table border=\"1\" class=\"dataframe\">\n",
       "  <thead>\n",
       "    <tr style=\"text-align: right;\">\n",
       "      <th></th>\n",
       "      <th>region</th>\n",
       "      <th>visits</th>\n",
       "    </tr>\n",
       "  </thead>\n",
       "  <tbody>\n",
       "    <tr>\n",
       "      <th>0</th>\n",
       "      <td>midwest</td>\n",
       "      <td>5.0</td>\n",
       "    </tr>\n",
       "    <tr>\n",
       "      <th>1</th>\n",
       "      <td>northeast</td>\n",
       "      <td>6.0</td>\n",
       "    </tr>\n",
       "    <tr>\n",
       "      <th>2</th>\n",
       "      <td>other</td>\n",
       "      <td>6.0</td>\n",
       "    </tr>\n",
       "    <tr>\n",
       "      <th>3</th>\n",
       "      <td>west</td>\n",
       "      <td>6.0</td>\n",
       "    </tr>\n",
       "  </tbody>\n",
       "</table>\n",
       "</div>"
      ],
      "text/plain": [
       "      region  visits\n",
       "0    midwest     5.0\n",
       "1  northeast     6.0\n",
       "2      other     6.0\n",
       "3       west     6.0"
      ]
     },
     "execution_count": 49,
     "metadata": {},
     "output_type": "execute_result"
    }
   ],
   "source": [
    "# groupby region & compare mean visits\n",
    "df_region_visits_avg = df.groupby('region')['visits'].mean().reset_index()\n",
    "df_region_visits_avg.round(0)"
   ]
  },
  {
   "cell_type": "code",
   "execution_count": 50,
   "id": "b413be63",
   "metadata": {},
   "outputs": [
    {
     "data": {
      "text/html": [
       "<div>\n",
       "<style scoped>\n",
       "    .dataframe tbody tr th:only-of-type {\n",
       "        vertical-align: middle;\n",
       "    }\n",
       "\n",
       "    .dataframe tbody tr th {\n",
       "        vertical-align: top;\n",
       "    }\n",
       "\n",
       "    .dataframe thead th {\n",
       "        text-align: right;\n",
       "    }\n",
       "</style>\n",
       "<table border=\"1\" class=\"dataframe\">\n",
       "  <thead>\n",
       "    <tr style=\"text-align: right;\">\n",
       "      <th></th>\n",
       "      <th>health</th>\n",
       "      <th>income</th>\n",
       "      <th>visits</th>\n",
       "    </tr>\n",
       "  </thead>\n",
       "  <tbody>\n",
       "    <tr>\n",
       "      <th>0</th>\n",
       "      <td>average</td>\n",
       "      <td>23061.0</td>\n",
       "      <td>6.0</td>\n",
       "    </tr>\n",
       "    <tr>\n",
       "      <th>1</th>\n",
       "      <td>excellent</td>\n",
       "      <td>28040.0</td>\n",
       "      <td>3.0</td>\n",
       "    </tr>\n",
       "    <tr>\n",
       "      <th>2</th>\n",
       "      <td>poor</td>\n",
       "      <td>17992.0</td>\n",
       "      <td>9.0</td>\n",
       "    </tr>\n",
       "  </tbody>\n",
       "</table>\n",
       "</div>"
      ],
      "text/plain": [
       "      health   income  visits\n",
       "0    average  23061.0     6.0\n",
       "1  excellent  28040.0     3.0\n",
       "2       poor  17992.0     9.0"
      ]
     },
     "execution_count": 50,
     "metadata": {},
     "output_type": "execute_result"
    }
   ],
   "source": [
    "# groupby health and check the mean income and mean visits for each health group\n",
    "df_health = df.groupby('health')[['income', 'visits']].mean().reset_index()\n",
    "df_health.round(0)"
   ]
  },
  {
   "cell_type": "code",
   "execution_count": 51,
   "id": "b9ee5b66",
   "metadata": {},
   "outputs": [],
   "source": [
    "# similar analysis can be done for age groups"
   ]
  },
  {
   "cell_type": "code",
   "execution_count": null,
   "id": "0dbfb780",
   "metadata": {},
   "outputs": [],
   "source": []
  },
  {
   "cell_type": "markdown",
   "id": "44cae923-4a4f-49e6-9e25-4ec21a468d06",
   "metadata": {
    "execution": {
     "iopub.execute_input": "2024-10-23T12:13:17.476512Z",
     "iopub.status.busy": "2024-10-23T12:13:17.475044Z",
     "iopub.status.idle": "2024-10-23T12:13:17.487251Z",
     "shell.execute_reply": "2024-10-23T12:13:17.486647Z",
     "shell.execute_reply.started": "2024-10-23T12:13:17.476433Z"
    },
    "tags": []
   },
   "source": [
    "### Create pivot tables to summarize relationships between categorical variables"
   ]
  },
  {
   "cell_type": "code",
   "execution_count": 52,
   "id": "c5863e8d",
   "metadata": {},
   "outputs": [
    {
     "name": "stdout",
     "output_type": "stream",
     "text": [
      "Mean income regionwise and healthwise\n"
     ]
    },
    {
     "data": {
      "text/html": [
       "<div>\n",
       "<style scoped>\n",
       "    .dataframe tbody tr th:only-of-type {\n",
       "        vertical-align: middle;\n",
       "    }\n",
       "\n",
       "    .dataframe tbody tr th {\n",
       "        vertical-align: top;\n",
       "    }\n",
       "\n",
       "    .dataframe thead th {\n",
       "        text-align: right;\n",
       "    }\n",
       "</style>\n",
       "<table border=\"1\" class=\"dataframe\">\n",
       "  <thead>\n",
       "    <tr style=\"text-align: right;\">\n",
       "      <th>health</th>\n",
       "      <th>average</th>\n",
       "      <th>excellent</th>\n",
       "      <th>poor</th>\n",
       "    </tr>\n",
       "    <tr>\n",
       "      <th>region</th>\n",
       "      <th></th>\n",
       "      <th></th>\n",
       "      <th></th>\n",
       "    </tr>\n",
       "  </thead>\n",
       "  <tbody>\n",
       "    <tr>\n",
       "      <th>midwest</th>\n",
       "      <td>22723.0</td>\n",
       "      <td>27056.0</td>\n",
       "      <td>20680.0</td>\n",
       "    </tr>\n",
       "    <tr>\n",
       "      <th>northeast</th>\n",
       "      <td>24099.0</td>\n",
       "      <td>26721.0</td>\n",
       "      <td>19383.0</td>\n",
       "    </tr>\n",
       "    <tr>\n",
       "      <th>other</th>\n",
       "      <td>20573.0</td>\n",
       "      <td>27641.0</td>\n",
       "      <td>15597.0</td>\n",
       "    </tr>\n",
       "    <tr>\n",
       "      <th>west</th>\n",
       "      <td>27380.0</td>\n",
       "      <td>30300.0</td>\n",
       "      <td>20738.0</td>\n",
       "    </tr>\n",
       "  </tbody>\n",
       "</table>\n",
       "</div>"
      ],
      "text/plain": [
       "health     average  excellent     poor\n",
       "region                                \n",
       "midwest    22723.0    27056.0  20680.0\n",
       "northeast  24099.0    26721.0  19383.0\n",
       "other      20573.0    27641.0  15597.0\n",
       "west       27380.0    30300.0  20738.0"
      ]
     },
     "execution_count": 52,
     "metadata": {},
     "output_type": "execute_result"
    }
   ],
   "source": [
    "# as a sample analysis, we will analyze the relationship between health and region categorical features and calculate the mean income for each combination of health and region\n",
    "\n",
    "health_region_pivot = pd.pivot_table(df, \n",
    "                                     index='region', \n",
    "                                     columns='health', \n",
    "                                     values='income', \n",
    "                                     aggfunc='mean').round(0)\n",
    "print(\"Mean income regionwise and healthwise\")\n",
    "health_region_pivot"
   ]
  },
  {
   "cell_type": "markdown",
   "id": "8a90455c-5b10-4dee-8d3d-f952361507fa",
   "metadata": {},
   "source": [
    "## Scaling & Transformation\n",
    "\n",
    "### Scale or Normalize variables like income and visits"
   ]
  },
  {
   "cell_type": "code",
   "execution_count": 53,
   "id": "f8e132b2",
   "metadata": {},
   "outputs": [
    {
     "data": {
      "text/html": [
       "<div>\n",
       "<style scoped>\n",
       "    .dataframe tbody tr th:only-of-type {\n",
       "        vertical-align: middle;\n",
       "    }\n",
       "\n",
       "    .dataframe tbody tr th {\n",
       "        vertical-align: top;\n",
       "    }\n",
       "\n",
       "    .dataframe thead th {\n",
       "        text-align: right;\n",
       "    }\n",
       "</style>\n",
       "<table border=\"1\" class=\"dataframe\">\n",
       "  <thead>\n",
       "    <tr style=\"text-align: right;\">\n",
       "      <th></th>\n",
       "      <th>visits</th>\n",
       "      <th>nvisits</th>\n",
       "      <th>ovisits</th>\n",
       "      <th>novisits</th>\n",
       "      <th>emergency</th>\n",
       "      <th>hospital</th>\n",
       "      <th>chronic</th>\n",
       "      <th>age</th>\n",
       "      <th>school</th>\n",
       "      <th>income</th>\n",
       "    </tr>\n",
       "  </thead>\n",
       "  <tbody>\n",
       "    <tr>\n",
       "      <th>count</th>\n",
       "      <td>4406.00</td>\n",
       "      <td>4406.00</td>\n",
       "      <td>4406.00</td>\n",
       "      <td>4406.00</td>\n",
       "      <td>4406.00</td>\n",
       "      <td>4406.00</td>\n",
       "      <td>4406.00</td>\n",
       "      <td>4406.00</td>\n",
       "      <td>4406.00</td>\n",
       "      <td>4406.00</td>\n",
       "    </tr>\n",
       "    <tr>\n",
       "      <th>mean</th>\n",
       "      <td>0.06</td>\n",
       "      <td>0.02</td>\n",
       "      <td>0.01</td>\n",
       "      <td>0.00</td>\n",
       "      <td>0.02</td>\n",
       "      <td>0.04</td>\n",
       "      <td>0.19</td>\n",
       "      <td>0.19</td>\n",
       "      <td>0.57</td>\n",
       "      <td>0.43</td>\n",
       "    </tr>\n",
       "    <tr>\n",
       "      <th>std</th>\n",
       "      <td>0.08</td>\n",
       "      <td>0.05</td>\n",
       "      <td>0.03</td>\n",
       "      <td>0.03</td>\n",
       "      <td>0.06</td>\n",
       "      <td>0.09</td>\n",
       "      <td>0.17</td>\n",
       "      <td>0.15</td>\n",
       "      <td>0.21</td>\n",
       "      <td>0.24</td>\n",
       "    </tr>\n",
       "    <tr>\n",
       "      <th>min</th>\n",
       "      <td>0.00</td>\n",
       "      <td>0.00</td>\n",
       "      <td>0.00</td>\n",
       "      <td>0.00</td>\n",
       "      <td>0.00</td>\n",
       "      <td>0.00</td>\n",
       "      <td>0.00</td>\n",
       "      <td>0.00</td>\n",
       "      <td>0.00</td>\n",
       "      <td>0.00</td>\n",
       "    </tr>\n",
       "    <tr>\n",
       "      <th>25%</th>\n",
       "      <td>0.01</td>\n",
       "      <td>0.00</td>\n",
       "      <td>0.00</td>\n",
       "      <td>0.00</td>\n",
       "      <td>0.00</td>\n",
       "      <td>0.00</td>\n",
       "      <td>0.12</td>\n",
       "      <td>0.07</td>\n",
       "      <td>0.44</td>\n",
       "      <td>0.25</td>\n",
       "    </tr>\n",
       "    <tr>\n",
       "      <th>50%</th>\n",
       "      <td>0.04</td>\n",
       "      <td>0.00</td>\n",
       "      <td>0.00</td>\n",
       "      <td>0.00</td>\n",
       "      <td>0.00</td>\n",
       "      <td>0.00</td>\n",
       "      <td>0.12</td>\n",
       "      <td>0.16</td>\n",
       "      <td>0.61</td>\n",
       "      <td>0.36</td>\n",
       "    </tr>\n",
       "    <tr>\n",
       "      <th>75%</th>\n",
       "      <td>0.09</td>\n",
       "      <td>0.01</td>\n",
       "      <td>0.00</td>\n",
       "      <td>0.00</td>\n",
       "      <td>0.00</td>\n",
       "      <td>0.00</td>\n",
       "      <td>0.25</td>\n",
       "      <td>0.28</td>\n",
       "      <td>0.67</td>\n",
       "      <td>0.55</td>\n",
       "    </tr>\n",
       "    <tr>\n",
       "      <th>max</th>\n",
       "      <td>1.00</td>\n",
       "      <td>1.00</td>\n",
       "      <td>1.00</td>\n",
       "      <td>1.00</td>\n",
       "      <td>1.00</td>\n",
       "      <td>1.00</td>\n",
       "      <td>1.00</td>\n",
       "      <td>1.00</td>\n",
       "      <td>1.00</td>\n",
       "      <td>1.00</td>\n",
       "    </tr>\n",
       "  </tbody>\n",
       "</table>\n",
       "</div>"
      ],
      "text/plain": [
       "        visits  nvisits  ovisits  novisits  emergency  hospital  chronic  \\\n",
       "count  4406.00  4406.00  4406.00   4406.00    4406.00   4406.00  4406.00   \n",
       "mean      0.06     0.02     0.01      0.00       0.02      0.04     0.19   \n",
       "std       0.08     0.05     0.03      0.03       0.06      0.09     0.17   \n",
       "min       0.00     0.00     0.00      0.00       0.00      0.00     0.00   \n",
       "25%       0.01     0.00     0.00      0.00       0.00      0.00     0.12   \n",
       "50%       0.04     0.00     0.00      0.00       0.00      0.00     0.12   \n",
       "75%       0.09     0.01     0.00      0.00       0.00      0.00     0.25   \n",
       "max       1.00     1.00     1.00      1.00       1.00      1.00     1.00   \n",
       "\n",
       "           age   school   income  \n",
       "count  4406.00  4406.00  4406.00  \n",
       "mean      0.19     0.57     0.43  \n",
       "std       0.15     0.21     0.24  \n",
       "min       0.00     0.00     0.00  \n",
       "25%       0.07     0.44     0.25  \n",
       "50%       0.16     0.61     0.36  \n",
       "75%       0.28     0.67     0.55  \n",
       "max       1.00     1.00     1.00  "
      ]
     },
     "execution_count": 53,
     "metadata": {},
     "output_type": "execute_result"
    }
   ],
   "source": [
    "# we will normalize the numeric features using MinMaxScaler\n",
    "from sklearn.preprocessing import MinMaxScaler\n",
    "mm_scaler = MinMaxScaler()\n",
    "df_copy = df.copy()\n",
    "df_copy[num_cols] = mm_scaler.fit_transform(df_copy[num_cols])\n",
    "\n",
    "# check the data for normalization\n",
    "df_copy.describe().round(2)"
   ]
  },
  {
   "cell_type": "markdown",
   "id": "58a89d54-4770-43b1-9c64-978fb873bc72",
   "metadata": {},
   "source": [
    "### Try Log Transformation on income variable to see if you can get a more normal distribution pattern"
   ]
  },
  {
   "cell_type": "code",
   "execution_count": 54,
   "id": "f18a8d14",
   "metadata": {},
   "outputs": [
    {
     "data": {
      "image/png": "[encoded data removed]",
      "text/plain": [
       "<Figure size 640x480 with 1 Axes>"
      ]
     },
     "metadata": {},
     "output_type": "display_data"
    }
   ],
   "source": [
    "# density plot of income in the original df\n",
    "sns.kdeplot(data=df, x='income', fill=True);"
   ]
  },
  {
   "cell_type": "code",
   "execution_count": 55,
   "id": "69adb06c",
   "metadata": {},
   "outputs": [
    {
     "data": {
      "image/png": "[encoded data removed]",
      "text/plain": [
       "<Figure size 640x480 with 1 Axes>"
      ]
     },
     "metadata": {},
     "output_type": "display_data"
    }
   ],
   "source": [
    "df['log_income'] = np.log1p(df['income']) # log transformation of income\n",
    "\n",
    "# the log1p function is used to avoid log(0) which is undefined it adds 1 to all the values before taking the log, so that we dont get error for undefined value of log(0)\n",
    "\n",
    "# density plot of log_income in the original df\n",
    "sns.kdeplot(data=df, x='log_income', fill=True);"
   ]
  },
  {
   "cell_type": "markdown",
   "id": "03ec6f2f-55ff-4601-a67a-1c1fee1d5cdd",
   "metadata": {},
   "source": [
    "## Binning"
   ]
  },
  {
   "cell_type": "markdown",
   "id": "200ca5cc-c3d1-4c77-add2-e55f61fd8b96",
   "metadata": {},
   "source": [
    "### Bin continuous variables like age(young, middle-aged, elderly) and income (low, medium, high)"
   ]
  },
  {
   "cell_type": "code",
   "execution_count": 59,
   "id": "472b72c5",
   "metadata": {},
   "outputs": [],
   "source": [
    "# bin age into 3 bins using cut function\n",
    "df['age_bins'] = pd.cut(df['age'], bins=3, labels=['young', 'middle_aged', 'old'])\n",
    "# bin income into 3 bins using cut function\n",
    "df['income_bins'] = pd.cut(df['income'], bins=3, labels=['low', 'medium', 'high'])"
   ]
  },
  {
   "cell_type": "code",
   "execution_count": 60,
   "id": "0f0d3b05",
   "metadata": {},
   "outputs": [
    {
     "data": {
      "text/plain": [
       "young          3680\n",
       "middle_aged     707\n",
       "old              19\n",
       "Name: age_bins, dtype: int64"
      ]
     },
     "execution_count": 60,
     "metadata": {},
     "output_type": "execute_result"
    }
   ],
   "source": [
    "df['age_bins'].value_counts()"
   ]
  },
  {
   "cell_type": "code",
   "execution_count": 61,
   "id": "44604bbf",
   "metadata": {},
   "outputs": [
    {
     "data": {
      "text/plain": [
       "low       1984\n",
       "medium    1675\n",
       "high       747\n",
       "Name: income_bins, dtype: int64"
      ]
     },
     "execution_count": 61,
     "metadata": {},
     "output_type": "execute_result"
    }
   ],
   "source": [
    "df['income_bins'].value_counts()"
   ]
  },
  {
   "cell_type": "markdown",
   "id": "25d6f6a6-202a-4f88-9bcd-584f53a680d7",
   "metadata": {},
   "source": [
    "## Categorical Feature Encoding"
   ]
  },
  {
   "cell_type": "markdown",
   "id": "14819f1e-4e56-4f1d-887f-061eddfd7a40",
   "metadata": {},
   "source": [
    "### Label Encode Gender and Married Variables"
   ]
  },
  {
   "cell_type": "code",
   "execution_count": 62,
   "id": "4528702e",
   "metadata": {},
   "outputs": [],
   "source": [
    "from sklearn.preprocessing import LabelEncoder\n",
    "le = LabelEncoder()\n",
    "\n",
    "# encode gender and married columns using label encoder\n",
    "df_copy['gender'] = le.fit_transform(df['gender'])"
   ]
  },
  {
   "cell_type": "code",
   "execution_count": 63,
   "id": "5a8b5fa3",
   "metadata": {},
   "outputs": [
    {
     "data": {
      "text/html": [
       "<div>\n",
       "<style scoped>\n",
       "    .dataframe tbody tr th:only-of-type {\n",
       "        vertical-align: middle;\n",
       "    }\n",
       "\n",
       "    .dataframe tbody tr th {\n",
       "        vertical-align: top;\n",
       "    }\n",
       "\n",
       "    .dataframe thead th {\n",
       "        text-align: right;\n",
       "    }\n",
       "</style>\n",
       "<table border=\"1\" class=\"dataframe\">\n",
       "  <thead>\n",
       "    <tr style=\"text-align: right;\">\n",
       "      <th></th>\n",
       "      <th>visits</th>\n",
       "      <th>nvisits</th>\n",
       "      <th>ovisits</th>\n",
       "      <th>novisits</th>\n",
       "      <th>emergency</th>\n",
       "      <th>hospital</th>\n",
       "      <th>health</th>\n",
       "      <th>chronic</th>\n",
       "      <th>adl</th>\n",
       "      <th>region</th>\n",
       "      <th>age</th>\n",
       "      <th>gender</th>\n",
       "      <th>married</th>\n",
       "      <th>school</th>\n",
       "      <th>income</th>\n",
       "      <th>employed</th>\n",
       "      <th>insurance</th>\n",
       "      <th>medicaid</th>\n",
       "    </tr>\n",
       "  </thead>\n",
       "  <tbody>\n",
       "    <tr>\n",
       "      <th>0</th>\n",
       "      <td>0.056180</td>\n",
       "      <td>0.0</td>\n",
       "      <td>0.000000</td>\n",
       "      <td>0.0</td>\n",
       "      <td>0.000000</td>\n",
       "      <td>0.125</td>\n",
       "      <td>average</td>\n",
       "      <td>0.25</td>\n",
       "      <td>normal</td>\n",
       "      <td>other</td>\n",
       "      <td>0.069767</td>\n",
       "      <td>1</td>\n",
       "      <td>1</td>\n",
       "      <td>0.333333</td>\n",
       "      <td>0.513898</td>\n",
       "      <td>yes</td>\n",
       "      <td>yes</td>\n",
       "      <td>no</td>\n",
       "    </tr>\n",
       "    <tr>\n",
       "      <th>1</th>\n",
       "      <td>0.011236</td>\n",
       "      <td>0.0</td>\n",
       "      <td>0.014184</td>\n",
       "      <td>0.0</td>\n",
       "      <td>0.166667</td>\n",
       "      <td>0.000</td>\n",
       "      <td>average</td>\n",
       "      <td>0.25</td>\n",
       "      <td>normal</td>\n",
       "      <td>other</td>\n",
       "      <td>0.186047</td>\n",
       "      <td>0</td>\n",
       "      <td>1</td>\n",
       "      <td>0.555556</td>\n",
       "      <td>0.496318</td>\n",
       "      <td>no</td>\n",
       "      <td>yes</td>\n",
       "      <td>no</td>\n",
       "    </tr>\n",
       "    <tr>\n",
       "      <th>2</th>\n",
       "      <td>0.146067</td>\n",
       "      <td>0.0</td>\n",
       "      <td>0.000000</td>\n",
       "      <td>0.0</td>\n",
       "      <td>0.250000</td>\n",
       "      <td>0.375</td>\n",
       "      <td>poor</td>\n",
       "      <td>0.50</td>\n",
       "      <td>limited</td>\n",
       "      <td>other</td>\n",
       "      <td>0.000000</td>\n",
       "      <td>0</td>\n",
       "      <td>0</td>\n",
       "      <td>0.555556</td>\n",
       "      <td>0.219854</td>\n",
       "      <td>no</td>\n",
       "      <td>no</td>\n",
       "      <td>yes</td>\n",
       "    </tr>\n",
       "    <tr>\n",
       "      <th>3</th>\n",
       "      <td>0.179775</td>\n",
       "      <td>0.0</td>\n",
       "      <td>0.035461</td>\n",
       "      <td>0.0</td>\n",
       "      <td>0.083333</td>\n",
       "      <td>0.125</td>\n",
       "      <td>poor</td>\n",
       "      <td>0.25</td>\n",
       "      <td>limited</td>\n",
       "      <td>other</td>\n",
       "      <td>0.232558</td>\n",
       "      <td>1</td>\n",
       "      <td>1</td>\n",
       "      <td>0.166667</td>\n",
       "      <td>0.220593</td>\n",
       "      <td>no</td>\n",
       "      <td>yes</td>\n",
       "      <td>no</td>\n",
       "    </tr>\n",
       "    <tr>\n",
       "      <th>4</th>\n",
       "      <td>0.033708</td>\n",
       "      <td>0.0</td>\n",
       "      <td>0.000000</td>\n",
       "      <td>0.0</td>\n",
       "      <td>0.000000</td>\n",
       "      <td>0.000</td>\n",
       "      <td>average</td>\n",
       "      <td>0.25</td>\n",
       "      <td>limited</td>\n",
       "      <td>other</td>\n",
       "      <td>0.302326</td>\n",
       "      <td>0</td>\n",
       "      <td>1</td>\n",
       "      <td>0.333333</td>\n",
       "      <td>0.220593</td>\n",
       "      <td>no</td>\n",
       "      <td>yes</td>\n",
       "      <td>no</td>\n",
       "    </tr>\n",
       "  </tbody>\n",
       "</table>\n",
       "</div>"
      ],
      "text/plain": [
       "     visits  nvisits   ovisits  novisits  emergency  hospital   health  \\\n",
       "0  0.056180      0.0  0.000000       0.0   0.000000     0.125  average   \n",
       "1  0.011236      0.0  0.014184       0.0   0.166667     0.000  average   \n",
       "2  0.146067      0.0  0.000000       0.0   0.250000     0.375     poor   \n",
       "3  0.179775      0.0  0.035461       0.0   0.083333     0.125     poor   \n",
       "4  0.033708      0.0  0.000000       0.0   0.000000     0.000  average   \n",
       "\n",
       "   chronic      adl region       age  gender  married    school    income  \\\n",
       "0     0.25   normal  other  0.069767       1        1  0.333333  0.513898   \n",
       "1     0.25   normal  other  0.186047       0        1  0.555556  0.496318   \n",
       "2     0.50  limited  other  0.000000       0        0  0.555556  0.219854   \n",
       "3     0.25  limited  other  0.232558       1        1  0.166667  0.220593   \n",
       "4     0.25  limited  other  0.302326       0        1  0.333333  0.220593   \n",
       "\n",
       "  employed insurance medicaid  \n",
       "0      yes       yes       no  \n",
       "1       no       yes       no  \n",
       "2       no        no      yes  \n",
       "3       no       yes       no  \n",
       "4       no       yes       no  "
      ]
     },
     "execution_count": 63,
     "metadata": {},
     "output_type": "execute_result"
    }
   ],
   "source": [
    "# label encode married column\n",
    "df_copy['married'] = le.fit_transform(df['married'])\n",
    "df_copy.head()"
   ]
  },
  {
   "cell_type": "markdown",
   "id": "ea715ae3-38e2-497f-9f08-f21e0d9ee2df",
   "metadata": {
    "execution": {
     "iopub.execute_input": "2024-10-23T12:25:32.009890Z",
     "iopub.status.busy": "2024-10-23T12:25:32.008785Z",
     "iopub.status.idle": "2024-10-23T12:25:32.022178Z",
     "shell.execute_reply": "2024-10-23T12:25:32.018014Z",
     "shell.execute_reply.started": "2024-10-23T12:25:32.009823Z"
    },
    "tags": []
   },
   "source": [
    "### One hot Encode Region and Health Variables"
   ]
  },
  {
   "cell_type": "code",
   "execution_count": 64,
   "id": "63f773d4",
   "metadata": {},
   "outputs": [
    {
     "data": {
      "text/html": [
       "<div>\n",
       "<style scoped>\n",
       "    .dataframe tbody tr th:only-of-type {\n",
       "        vertical-align: middle;\n",
       "    }\n",
       "\n",
       "    .dataframe tbody tr th {\n",
       "        vertical-align: top;\n",
       "    }\n",
       "\n",
       "    .dataframe thead th {\n",
       "        text-align: right;\n",
       "    }\n",
       "</style>\n",
       "<table border=\"1\" class=\"dataframe\">\n",
       "  <thead>\n",
       "    <tr style=\"text-align: right;\">\n",
       "      <th></th>\n",
       "      <th>visits</th>\n",
       "      <th>nvisits</th>\n",
       "      <th>ovisits</th>\n",
       "      <th>novisits</th>\n",
       "      <th>emergency</th>\n",
       "      <th>hospital</th>\n",
       "      <th>chronic</th>\n",
       "      <th>adl</th>\n",
       "      <th>age</th>\n",
       "      <th>gender</th>\n",
       "      <th>...</th>\n",
       "      <th>school</th>\n",
       "      <th>income</th>\n",
       "      <th>employed</th>\n",
       "      <th>insurance</th>\n",
       "      <th>medicaid</th>\n",
       "      <th>region_northeast</th>\n",
       "      <th>region_other</th>\n",
       "      <th>region_west</th>\n",
       "      <th>health_excellent</th>\n",
       "      <th>health_poor</th>\n",
       "    </tr>\n",
       "  </thead>\n",
       "  <tbody>\n",
       "    <tr>\n",
       "      <th>0</th>\n",
       "      <td>0.056180</td>\n",
       "      <td>0.0</td>\n",
       "      <td>0.000000</td>\n",
       "      <td>0.0</td>\n",
       "      <td>0.000000</td>\n",
       "      <td>0.125</td>\n",
       "      <td>0.25</td>\n",
       "      <td>normal</td>\n",
       "      <td>0.069767</td>\n",
       "      <td>1</td>\n",
       "      <td>...</td>\n",
       "      <td>0.333333</td>\n",
       "      <td>0.513898</td>\n",
       "      <td>yes</td>\n",
       "      <td>yes</td>\n",
       "      <td>no</td>\n",
       "      <td>0</td>\n",
       "      <td>1</td>\n",
       "      <td>0</td>\n",
       "      <td>0</td>\n",
       "      <td>0</td>\n",
       "    </tr>\n",
       "    <tr>\n",
       "      <th>1</th>\n",
       "      <td>0.011236</td>\n",
       "      <td>0.0</td>\n",
       "      <td>0.014184</td>\n",
       "      <td>0.0</td>\n",
       "      <td>0.166667</td>\n",
       "      <td>0.000</td>\n",
       "      <td>0.25</td>\n",
       "      <td>normal</td>\n",
       "      <td>0.186047</td>\n",
       "      <td>0</td>\n",
       "      <td>...</td>\n",
       "      <td>0.555556</td>\n",
       "      <td>0.496318</td>\n",
       "      <td>no</td>\n",
       "      <td>yes</td>\n",
       "      <td>no</td>\n",
       "      <td>0</td>\n",
       "      <td>1</td>\n",
       "      <td>0</td>\n",
       "      <td>0</td>\n",
       "      <td>0</td>\n",
       "    </tr>\n",
       "    <tr>\n",
       "      <th>2</th>\n",
       "      <td>0.146067</td>\n",
       "      <td>0.0</td>\n",
       "      <td>0.000000</td>\n",
       "      <td>0.0</td>\n",
       "      <td>0.250000</td>\n",
       "      <td>0.375</td>\n",
       "      <td>0.50</td>\n",
       "      <td>limited</td>\n",
       "      <td>0.000000</td>\n",
       "      <td>0</td>\n",
       "      <td>...</td>\n",
       "      <td>0.555556</td>\n",
       "      <td>0.219854</td>\n",
       "      <td>no</td>\n",
       "      <td>no</td>\n",
       "      <td>yes</td>\n",
       "      <td>0</td>\n",
       "      <td>1</td>\n",
       "      <td>0</td>\n",
       "      <td>0</td>\n",
       "      <td>1</td>\n",
       "    </tr>\n",
       "    <tr>\n",
       "      <th>3</th>\n",
       "      <td>0.179775</td>\n",
       "      <td>0.0</td>\n",
       "      <td>0.035461</td>\n",
       "      <td>0.0</td>\n",
       "      <td>0.083333</td>\n",
       "      <td>0.125</td>\n",
       "      <td>0.25</td>\n",
       "      <td>limited</td>\n",
       "      <td>0.232558</td>\n",
       "      <td>1</td>\n",
       "      <td>...</td>\n",
       "      <td>0.166667</td>\n",
       "      <td>0.220593</td>\n",
       "      <td>no</td>\n",
       "      <td>yes</td>\n",
       "      <td>no</td>\n",
       "      <td>0</td>\n",
       "      <td>1</td>\n",
       "      <td>0</td>\n",
       "      <td>0</td>\n",
       "      <td>1</td>\n",
       "    </tr>\n",
       "    <tr>\n",
       "      <th>4</th>\n",
       "      <td>0.033708</td>\n",
       "      <td>0.0</td>\n",
       "      <td>0.000000</td>\n",
       "      <td>0.0</td>\n",
       "      <td>0.000000</td>\n",
       "      <td>0.000</td>\n",
       "      <td>0.25</td>\n",
       "      <td>limited</td>\n",
       "      <td>0.302326</td>\n",
       "      <td>0</td>\n",
       "      <td>...</td>\n",
       "      <td>0.333333</td>\n",
       "      <td>0.220593</td>\n",
       "      <td>no</td>\n",
       "      <td>yes</td>\n",
       "      <td>no</td>\n",
       "      <td>0</td>\n",
       "      <td>1</td>\n",
       "      <td>0</td>\n",
       "      <td>0</td>\n",
       "      <td>0</td>\n",
       "    </tr>\n",
       "  </tbody>\n",
       "</table>\n",
       "<p>5 rows × 21 columns</p>\n",
       "</div>"
      ],
      "text/plain": [
       "     visits  nvisits   ovisits  novisits  emergency  hospital  chronic  \\\n",
       "0  0.056180      0.0  0.000000       0.0   0.000000     0.125     0.25   \n",
       "1  0.011236      0.0  0.014184       0.0   0.166667     0.000     0.25   \n",
       "2  0.146067      0.0  0.000000       0.0   0.250000     0.375     0.50   \n",
       "3  0.179775      0.0  0.035461       0.0   0.083333     0.125     0.25   \n",
       "4  0.033708      0.0  0.000000       0.0   0.000000     0.000     0.25   \n",
       "\n",
       "       adl       age  gender  ...    school    income  employed insurance  \\\n",
       "0   normal  0.069767       1  ...  0.333333  0.513898       yes       yes   \n",
       "1   normal  0.186047       0  ...  0.555556  0.496318        no       yes   \n",
       "2  limited  0.000000       0  ...  0.555556  0.219854        no        no   \n",
       "3  limited  0.232558       1  ...  0.166667  0.220593        no       yes   \n",
       "4  limited  0.302326       0  ...  0.333333  0.220593        no       yes   \n",
       "\n",
       "  medicaid region_northeast  region_other  region_west  health_excellent  \\\n",
       "0       no                0             1            0                 0   \n",
       "1       no                0             1            0                 0   \n",
       "2      yes                0             1            0                 0   \n",
       "3       no                0             1            0                 0   \n",
       "4       no                0             1            0                 0   \n",
       "\n",
       "   health_poor  \n",
       "0            0  \n",
       "1            0  \n",
       "2            1  \n",
       "3            1  \n",
       "4            0  \n",
       "\n",
       "[5 rows x 21 columns]"
      ]
     },
     "execution_count": 64,
     "metadata": {},
     "output_type": "execute_result"
    }
   ],
   "source": [
    "# one hot encode the region and health features\n",
    "df_copy = pd.get_dummies(df_copy, columns=['region', 'health'], drop_first=True,dtype=int)\n",
    "df_copy.head()"
   ]
  },
  {
   "cell_type": "code",
   "execution_count": null,
   "id": "da497e93",
   "metadata": {},
   "outputs": [],
   "source": []
  }
 ],
 "metadata": {
  "kernelspec": {
   "display_name": "Python 3 (ipykernel)",
   "language": "python",
   "name": "python3"
  },
  "language_info": {
   "codemirror_mode": {
    "name": "ipython",
    "version": 3
   },
   "file_extension": ".py",
   "mimetype": "text/x-python",
   "name": "python",
   "nbconvert_exporter": "python",
   "pygments_lexer": "ipython3",
   "version": "3.12.3"
  },
  "toc-autonumbering": true,
  "widgets": {
   "application/vnd.jupyter.widget-state+json": {
    "state": {},
    "version_major": 2,
    "version_minor": 0
   }
  }
 },
 "nbformat": 4,
 "nbformat_minor": 5
}
